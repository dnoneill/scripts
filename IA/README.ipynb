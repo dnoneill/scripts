{
 "cells": [
  {
   "cell_type": "markdown",
   "metadata": {},
   "source": [
    "Purpose: Internet Archive already allows for the downloading of a csv through: https://archive.org/advancedsearch.php. However, if there are multiple entries for a metadata element, the column will be formated as a list (['heading 1', 'heading 2']). This script removes the list format so the column is in the following format by default ('heading 1'; 'heading 2'). It also allows the user to set the delimiter. Finally, Internet Archive's download only allows for a keyword search. This script allows for any advanced search of the title, creator and date."
   ]
  },
  {
   "cell_type": "markdown",
   "metadata": {},
   "source": [
    "1\\. Run script"
   ]
  },
  {
   "cell_type": "markdown",
   "metadata": {},
   "source": [
    "2\\. Choose search type (K or A), Hit Enter"
   ]
  },
  {
   "cell_type": "markdown",
   "metadata": {},
   "source": [
    "3\\. For Keyword: Enter Keyword search, hit enter"
   ]
  },
  {
   "cell_type": "markdown",
   "metadata": {},
   "source": [
    "4\\. Enter Delimiter, leave blank for ; \n",
    "\n",
    "```\n",
    "Examples: \n",
    "Creator with entered delimiter\n",
    "Degas, Edgar, 1834-1917* Toulouse-Lautrec, Henri de, 1864-1901* Roberts, Keith, 1937-\n",
    "Creator with delimiter left blank\n",
    "Degas, Edgar, 1834-1917; Toulouse-Lautrec, Henri de, 1864-1901; Roberts, Keith, 1937-\n",
    "```"
   ]
  },
  {
   "cell_type": "markdown",
   "metadata": {},
   "source": [
    "5\\. Hit Enter.\n",
    "\n",
    "A csv file named with the search query will be in the same folder as the script. "
   ]
  },
  {
   "cell_type": "code",
   "execution_count": 6,
   "metadata": {},
   "outputs": [
    {
     "name": "stdout",
     "output_type": "stream",
     "text": [
      "Keyword or Advanced (Title, Creator, Mediatype) Search (K/A): K\n",
      "Enter Query: Edgar Degas\n",
      "Enter Delimiter, leave blank for semi-colon: \n",
      "150 records retrieved\n"
     ]
    }
   ],
   "source": [
    "python ia_search.py"
   ]
  },
  {
   "cell_type": "markdown",
   "metadata": {},
   "source": [
    "3\\. For Advanced Search: Enter Title (this can be left blank), Hit Enter"
   ]
  },
  {
   "cell_type": "markdown",
   "metadata": {},
   "source": [
    "4\\. Enter Creator (this can be left blank), Hit Enter"
   ]
  },
  {
   "cell_type": "markdown",
   "metadata": {},
   "source": [
    "5\\. Enter Mediatype (this can be left blank), Hit Enter"
   ]
  },
  {
   "cell_type": "markdown",
   "metadata": {},
   "source": [
    "6\\. Enter Delimiter, leave blank for ;, Hit Enter"
   ]
  },
  {
   "cell_type": "markdown",
   "metadata": {},
   "source": [
    "5\\. Hit Enter.\n",
    "\n",
    "A csv file named with the search query will be in the same folder as the ia_search.py. \n",
    "\n",
    "The number of records should be printed out upon finishing. If the number of records is not equal to the number of rows (minus the header row) in the csv, there is a problem.\n",
    "\n",
    "`150 records retrieved`"
   ]
  },
  {
   "cell_type": "code",
   "execution_count": 17,
   "metadata": {},
   "outputs": [
    {
     "name": "stdout",
     "output_type": "stream",
     "text": [
      "Keyword or Advanced (Title, Creator, Mediatype) Search (K/A): a\n",
      "Enter Title: \n",
      "Enter Creator: Edgar Degas\n",
      "Enter Mediatype (audio, collection, data, image, movies, texts, web): image\n",
      "Enter Delimiter, leave blank for semi-colon: *\n",
      "9 records retrieved\n"
     ]
    }
   ],
   "source": [
    "python ia_search.py"
   ]
  }
 ],
 "metadata": {
  "kernelspec": {
   "display_name": "Python 3",
   "language": "python",
   "name": "python3"
  },
  "language_info": {
   "codemirror_mode": {
    "name": "ipython",
    "version": 3
   },
   "file_extension": ".py",
   "mimetype": "text/x-python",
   "name": "python",
   "nbconvert_exporter": "python",
   "pygments_lexer": "ipython3",
   "version": "3.5.2"
  }
 },
 "nbformat": 4,
 "nbformat_minor": 2
}
